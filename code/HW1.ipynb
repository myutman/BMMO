{
 "cells": [
  {
   "cell_type": "code",
   "execution_count": 26,
   "metadata": {
    "scrolled": true
   },
   "outputs": [
    {
     "name": "stdout",
     "output_type": "stream",
     "text": [
      "The autoreload extension is already loaded. To reload it, use:\n",
      "  %reload_ext autoreload\n"
     ]
    }
   ],
   "source": [
    "%load_ext autoreload\n",
    "%autoreload"
   ]
  },
  {
   "cell_type": "code",
   "execution_count": 27,
   "metadata": {},
   "outputs": [],
   "source": [
    "import time\n",
    "import matplotlib.pyplot as plt \n",
    "\n",
    "from mikhail_yutman_v3 import *"
   ]
  },
  {
   "cell_type": "code",
   "execution_count": 3,
   "metadata": {},
   "outputs": [],
   "source": [
    "params = {\n",
    "    \"amin\": 75, \n",
    "    \"amax\": 90, \n",
    "    \"bmin\": 500, \n",
    "    \"bmax\": 600, \n",
    "    \"p1\": 0.1,\n",
    "    \"p2\": 0.01,\n",
    "    \"p3\": 0.3,\n",
    "}\n",
    "\n",
    "N = 50"
   ]
  },
  {
   "cell_type": "code",
   "execution_count": 245,
   "metadata": {},
   "outputs": [
    {
     "data": {
      "text/plain": [
       "0.0001580000000558357"
      ]
     },
     "execution_count": 245,
     "metadata": {},
     "output_type": "execute_result"
    }
   ],
   "source": [
    "t = time.clock()\n",
    "pa(params, 3)\n",
    "time.clock() - t"
   ]
  },
  {
   "cell_type": "code",
   "execution_count": 270,
   "metadata": {},
   "outputs": [
    {
     "data": {
      "text/plain": [
       "0.00014299999998002022"
      ]
     },
     "execution_count": 270,
     "metadata": {},
     "output_type": "execute_result"
    }
   ],
   "source": [
    "t = time.clock()\n",
    "pa(params, 4)\n",
    "time.clock() - t"
   ]
  },
  {
   "cell_type": "code",
   "execution_count": 247,
   "metadata": {},
   "outputs": [
    {
     "data": {
      "text/plain": [
       "0.00020799999992959783"
      ]
     },
     "execution_count": 247,
     "metadata": {},
     "output_type": "execute_result"
    }
   ],
   "source": [
    "t = time.clock()\n",
    "pb(params, 3)\n",
    "time.clock() - t"
   ]
  },
  {
   "cell_type": "code",
   "execution_count": 248,
   "metadata": {},
   "outputs": [
    {
     "data": {
      "text/plain": [
       "0.0001580000000558357"
      ]
     },
     "execution_count": 248,
     "metadata": {},
     "output_type": "execute_result"
    }
   ],
   "source": [
    "t = time.clock()\n",
    "pa(params, 4)\n",
    "time.clock() - t"
   ]
  },
  {
   "cell_type": "code",
   "execution_count": 249,
   "metadata": {},
   "outputs": [
    {
     "data": {
      "text/plain": [
       "2.338414999999941"
      ]
     },
     "execution_count": 249,
     "metadata": {},
     "output_type": "execute_result"
    }
   ],
   "source": [
    "t = time.clock()\n",
    "pc(params, 3)\n",
    "time.clock() - t"
   ]
  },
  {
   "cell_type": "code",
   "execution_count": 250,
   "metadata": {},
   "outputs": [
    {
     "data": {
      "text/plain": [
       "0.32371499999999287"
      ]
     },
     "execution_count": 250,
     "metadata": {},
     "output_type": "execute_result"
    }
   ],
   "source": [
    "t = time.clock()\n",
    "pc(params, 4)\n",
    "time.clock() - t"
   ]
  },
  {
   "cell_type": "code",
   "execution_count": 268,
   "metadata": {},
   "outputs": [
    {
     "data": {
      "text/plain": [
       "2.4774230000000443"
      ]
     },
     "execution_count": 268,
     "metadata": {},
     "output_type": "execute_result"
    }
   ],
   "source": [
    "t = time.clock()\n",
    "pd(params, 3)\n",
    "time.clock() - t"
   ]
  },
  {
   "cell_type": "code",
   "execution_count": 269,
   "metadata": {},
   "outputs": [
    {
     "data": {
      "text/plain": [
       "0.5724420000000237"
      ]
     },
     "execution_count": 269,
     "metadata": {},
     "output_type": "execute_result"
    }
   ],
   "source": [
    "t = time.clock()\n",
    "pd(params, 4)\n",
    "time.clock() - t"
   ]
  },
  {
   "cell_type": "code",
   "execution_count": 300,
   "metadata": {},
   "outputs": [],
   "source": [
    "prob, val = pd_c(range(100, 200), params, 3)"
   ]
  },
  {
   "cell_type": "code",
   "execution_count": 299,
   "metadata": {},
   "outputs": [
    {
     "data": {
      "image/png": "[encoded data removed]",
      "text/plain": [
       "<Figure size 432x288 with 1 Axes>"
      ]
     },
     "metadata": {
      "needs_background": "light"
     },
     "output_type": "display_data"
    }
   ],
   "source": [
    "plt.plot(val, prob)\n",
    "plt.yscale(\"log\")"
   ]
  },
  {
   "cell_type": "code",
   "execution_count": 302,
   "metadata": {},
   "outputs": [
    {
     "data": {
      "text/plain": [
       "array([[0., 0.],\n",
       "       [0., 0.],\n",
       "       [0., 0.],\n",
       "       ...,\n",
       "       [0., 0.],\n",
       "       [0., 0.],\n",
       "       [0., 0.]])"
      ]
     },
     "execution_count": 302,
     "metadata": {},
     "output_type": "execute_result"
    }
   ],
   "source": [
    "prob[:,[0, 1]]"
   ]
  },
  {
   "cell_type": "code",
   "execution_count": 389,
   "metadata": {},
   "outputs": [
    {
     "data": {
      "text/plain": [
       "[<matplotlib.lines.Line2D at 0x7f211e57fa90>]"
      ]
     },
     "execution_count": 389,
     "metadata": {},
     "output_type": "execute_result"
    },
    {
     "data": {
      "image/png": "[encoded data removed]",
      "text/plain": [
       "<Figure size 432x288 with 1 Axes>"
      ]
     },
     "metadata": {
      "needs_background": "light"
     },
     "output_type": "display_data"
    }
   ],
   "source": [
    "plt.plot(pd_c(range(0, 691), params, 4)[0].sum(axis=0))"
   ]
  },
  {
   "cell_type": "code",
   "execution_count": 51,
   "metadata": {},
   "outputs": [
    {
     "name": "stdout",
     "output_type": "stream",
     "text": [
      "(101, 1381)\n"
     ]
    },
    {
     "data": {
      "text/plain": [
       "[<matplotlib.lines.Line2D at 0x7f660b9f2a58>]"
      ]
     },
     "execution_count": 51,
     "metadata": {},
     "output_type": "execute_result"
    },
    {
     "data": {
      "image/png": "[encoded data removed]",
      "text/plain": [
       "<Figure size 432x288 with 1 Axes>"
      ]
     },
     "metadata": {
      "needs_background": "light"
     },
     "output_type": "display_data"
    }
   ],
   "source": [
    "plt.plot(pb_d(range(0, 1381), params, 3)[0].sum(axis=0))"
   ]
  },
  {
   "cell_type": "code",
   "execution_count": 18,
   "metadata": {},
   "outputs": [],
   "source": [
    "p1, _ = pd_b(range(500, 601), params, 3)"
   ]
  },
  {
   "cell_type": "code",
   "execution_count": 21,
   "metadata": {},
   "outputs": [
    {
     "data": {
      "text/plain": [
       "(101, 1381)"
      ]
     },
     "execution_count": 21,
     "metadata": {},
     "output_type": "execute_result"
    }
   ],
   "source": [
    "prob_d_b = p1\n",
    "prob_d_b = prob_d_b.transpose(1, 0)\n",
    "prob_d_b.shape"
   ]
  },
  {
   "cell_type": "code",
   "execution_count": 23,
   "metadata": {},
   "outputs": [],
   "source": [
    "prob_d, _ = pd(params, 3)"
   ]
  },
  {
   "cell_type": "code",
   "execution_count": 29,
   "metadata": {},
   "outputs": [
    {
     "data": {
      "text/plain": [
       "array([6.167905198927566e-11, 6.266717843509764e-09,\n",
       "       1.861761159852843e-07, ..., 0.0, 0.0, 0.0], dtype=object)"
      ]
     },
     "execution_count": 29,
     "metadata": {},
     "output_type": "execute_result"
    }
   ],
   "source": [
    "(prob_d_b * prob_d.reshape(1, -1)).sum(axis=0)"
   ]
  },
  {
   "cell_type": "code",
   "execution_count": 18,
   "metadata": {},
   "outputs": [
    {
     "data": {
      "text/plain": [
       "array([1., 1., 1., 1., 1.])"
      ]
     },
     "execution_count": 18,
     "metadata": {},
     "output_type": "execute_result"
    }
   ],
   "source": [
    "pd_a(range(75, 80), params, 3)[0].sum(axis=0)"
   ]
  },
  {
   "cell_type": "code",
   "execution_count": 19,
   "metadata": {
    "scrolled": true
   },
   "outputs": [
    {
     "data": {
      "text/plain": [
       "array([[0.9999999999999998, 1.0, 1.0, 1.0000000000000002,\n",
       "        1.0000000000000002],\n",
       "       [1.0000000000000002, 0.9999999999999999, 0.9999999999999999, 1.0,\n",
       "        1.0],\n",
       "       [1.0000000000000002, 1.0000000000000002, 1.0000000000000002,\n",
       "        0.9999999999999999, 1.0000000000000004],\n",
       "       [1.0000000000000002, 0.9999999999999998, 0.9999999999999998, 1.0,\n",
       "        1.0],\n",
       "       [1.0000000000000002, 0.9999999999999998, 0.9999999999999999,\n",
       "        1.0000000000000002, 1.0]], dtype=object)"
      ]
     },
     "execution_count": 19,
     "metadata": {},
     "output_type": "execute_result"
    }
   ],
   "source": [
    "pb_ad(range(75, 80), range(100, 105), params, 3)[0].sum(axis=0)"
   ]
  },
  {
   "cell_type": "code",
   "execution_count": 28,
   "metadata": {},
   "outputs": [
    {
     "data": {
      "text/plain": [
       "(array([1.23579897e-006, 1.66369334e-005, 1.12153239e-004, 5.04787643e-004,\n",
       "        1.70656333e-003, 4.62260654e-003, 1.04504671e-002, 2.02818313e-002,\n",
       "        3.44952619e-002, 5.22317455e-002, 7.12901156e-002, 8.85950984e-002,\n",
       "        1.01083472e-001, 1.06626893e-001, 1.04603401e-001, 9.59261224e-002,\n",
       "        8.25984550e-002, 6.70420666e-002, 5.14712438e-002, 3.74939819e-002,\n",
       "        2.59858845e-002, 1.71780420e-002, 1.08554906e-002, 6.57137248e-003,\n",
       "        3.81775223e-003, 2.13231340e-003, 1.14676105e-003, 5.94713089e-004,\n",
       "        2.97811630e-004, 1.44185027e-004, 6.75693774e-005, 3.06834131e-005,\n",
       "        1.35152257e-005, 5.77993166e-006, 2.40209560e-006, 9.70937404e-007,\n",
       "        3.82005368e-007, 1.46402819e-007, 5.46937520e-008, 1.99307839e-008,\n",
       "        7.08898928e-009, 2.46251213e-009, 8.35900135e-010, 2.77426630e-010,\n",
       "        9.00708369e-011, 2.86204655e-011, 8.90492056e-012, 2.71418608e-012,\n",
       "        8.10759924e-013, 2.37447143e-013, 6.82079733e-014, 1.92247804e-014,\n",
       "        5.31867731e-015, 1.44481989e-015, 3.85511723e-016, 1.01068495e-016,\n",
       "        2.60425610e-017, 6.59738366e-018, 1.64363660e-018, 4.02816609e-019,\n",
       "        9.71390334e-020, 2.30557071e-020, 5.38729879e-021, 1.23958916e-021,\n",
       "        2.80932080e-022, 6.27250949e-023, 1.38004819e-023, 2.99263464e-024,\n",
       "        6.39750279e-025, 1.34850563e-025, 2.80327793e-026, 5.74822635e-027,\n",
       "        1.16288494e-027, 2.32141860e-028, 4.57362468e-029, 8.89472266e-030,\n",
       "        1.70781822e-030, 3.23786583e-031, 6.06251549e-032, 1.12121983e-032,\n",
       "        2.04850955e-033, 3.69792713e-034, 6.59650810e-035, 1.16296334e-035,\n",
       "        2.02662531e-036, 3.49135787e-037, 5.94682775e-038, 1.00161719e-038,\n",
       "        1.66839042e-039, 2.74869145e-040, 4.47959147e-041, 7.22246651e-042,\n",
       "        1.15217087e-042, 1.81878318e-043, 2.84135242e-044, 4.39335069e-045,\n",
       "        6.72417085e-046, 1.01882195e-046, 1.52833380e-047, 2.27008088e-048,\n",
       "        3.33894764e-049, 4.86367121e-050, 7.01690335e-051, 1.00275090e-051,\n",
       "        1.41953385e-052, 1.99086443e-053, 2.76642103e-054, 3.80901118e-055,\n",
       "        5.19708301e-056, 7.02741988e-057, 9.41793679e-058, 1.25104640e-058,\n",
       "        1.64733683e-059, 2.15038249e-060, 2.78295224e-061, 3.57095502e-062,\n",
       "        4.54342029e-063, 5.73234273e-064, 7.17236473e-065, 8.90027345e-066,\n",
       "        1.09542941e-066, 1.33731687e-067, 1.61950201e-068, 1.94560112e-069,\n",
       "        2.31888243e-070, 2.74210006e-071, 3.21731897e-072, 3.74573802e-073,\n",
       "        4.32751850e-074, 4.96162722e-075, 5.64570287e-076, 6.37595496e-077,\n",
       "        7.14710370e-078, 7.95236803e-079, 8.78350753e-080, 9.63092135e-081,\n",
       "        1.04838052e-081, 1.13303641e-082, 1.21580760e-083, 1.29539984e-084,\n",
       "        1.37051077e-085, 1.43986579e-086, 1.50225464e-087, 1.55656700e-088,\n",
       "        1.60182572e-089, 1.63721635e-090, 1.66211150e-091, 1.67608930e-092,\n",
       "        1.67894494e-093, 1.67069505e-094, 1.65157471e-095, 1.62202747e-096,\n",
       "        1.58268874e-097, 1.53436368e-098, 1.47800028e-099, 1.41465920e-100,\n",
       "        1.34548147e-101, 1.27165541e-102, 1.19438418e-103, 1.11485489e-104,\n",
       "        1.03421056e-105, 9.53525557e-107, 8.73785171e-108, 7.95869736e-109,\n",
       "        7.20543376e-110, 6.48447369e-111, 5.80097849e-112, 5.15887463e-113,\n",
       "        4.56090457e-114, 4.00870603e-115, 3.50291335e-116, 3.04327445e-117,\n",
       "        2.62877730e-118, 2.25778025e-119, 1.92814117e-120, 1.63734123e-121,\n",
       "        1.38259999e-122, 1.16097938e-123, 9.69474811e-125, 8.05092800e-126,\n",
       "        6.64914675e-127, 5.46146917e-128, 4.46158874e-129, 3.62509020e-130,\n",
       "        2.92961091e-131, 2.35491587e-132, 1.88290114e-133, 1.49754034e-134,\n",
       "        1.18478765e-135, 9.32449773e-137, 7.30037473e-138, 5.68605888e-139,\n",
       "        4.40591020e-140, 3.39648340e-141, 2.60497931e-142, 1.98779334e-143,\n",
       "        1.50918156e-144, 1.14005570e-145, 8.56911338e-147, 6.40887418e-148,\n",
       "        4.76951627e-149, 3.53202891e-150, 2.60280706e-151, 1.90870099e-152,\n",
       "        1.39290759e-153, 1.01159198e-154, 7.31134383e-156, 5.25905587e-157,\n",
       "        3.76484417e-158, 2.68240699e-159, 1.90217513e-160, 1.34256124e-161,\n",
       "        9.43159228e-163, 6.59496785e-164, 4.59014551e-165, 3.18006208e-166,\n",
       "        2.19305388e-167, 1.50548580e-168, 1.02878993e-169, 6.99855460e-171,\n",
       "        4.73947761e-172, 3.19522792e-173, 2.14452519e-174, 1.43293678e-175,\n",
       "        9.53230691e-177, 6.31324416e-178, 4.16293023e-179, 2.73303994e-180,\n",
       "        1.78649324e-181, 1.16271561e-182, 7.53477820e-184, 4.86183616e-185,\n",
       "        3.12371222e-186, 1.99843702e-187, 1.27311169e-188, 8.07619707e-190,\n",
       "        5.10175236e-191, 3.20930910e-192, 2.01043948e-193, 1.25419556e-194,\n",
       "        7.79187125e-196, 4.82089772e-197, 2.97051015e-198, 1.82288138e-199,\n",
       "        1.11408220e-200, 6.78132677e-202, 4.11109788e-203, 2.48229680e-204,\n",
       "        1.49282647e-205, 8.94193701e-207, 5.33491390e-208, 3.17032345e-209,\n",
       "        1.87657897e-210, 1.10643000e-211, 6.49802718e-213, 3.80142301e-214,\n",
       "        2.21525907e-215, 1.28594681e-216, 7.43614927e-218, 4.28357338e-219,\n",
       "        2.45812351e-220, 1.40522827e-221, 8.00280070e-223, 4.54041227e-224,\n",
       "        2.56633241e-225, 1.44511025e-226, 8.10710098e-228, 4.53119493e-229,\n",
       "        2.52318129e-230, 1.39984083e-231, 7.73765293e-233, 4.26133894e-234,\n",
       "        2.33827168e-235, 1.27838507e-236, 6.96389102e-238, 3.77982321e-239,\n",
       "        2.04421185e-240, 1.10159210e-241, 5.91509589e-243, 3.16485894e-244,\n",
       "        1.68734545e-245, 8.96429583e-247, 4.74565644e-248, 2.50351225e-249,\n",
       "        1.31607850e-250, 6.89442117e-252, 3.59917558e-253, 1.87241749e-254,\n",
       "        9.70737848e-256, 5.01540502e-257, 2.58237881e-258, 1.32510064e-259,\n",
       "        6.77638075e-261, 3.45359792e-262, 1.75418651e-263, 8.88003597e-265,\n",
       "        4.48016039e-266, 2.25277159e-267, 1.12899070e-268, 5.63920649e-270,\n",
       "        2.80740351e-271, 1.39301452e-272, 6.88930056e-274, 3.39600246e-275,\n",
       "        1.66854874e-276, 8.17132458e-278, 3.98871763e-279, 1.94073375e-280,\n",
       "        9.41228352e-282, 4.55014179e-283, 2.19260414e-284, 1.05318667e-285,\n",
       "        5.04271851e-287, 2.40681520e-288, 1.14510097e-289, 5.43090467e-291,\n",
       "        2.56762886e-292, 1.21011956e-293, 5.68544596e-295, 2.66284108e-296,\n",
       "        1.24329626e-297, 5.78704491e-299, 2.68532023e-300, 1.24221409e-301,\n",
       "        5.72877885e-303, 2.63388607e-304, 1.20727246e-305, 5.51684785e-307,\n",
       "        2.51337989e-308, 1.14159133e-309, 5.16954767e-311, 2.33392941e-312,\n",
       "        1.05055814e-313, 4.71469447e-315, 2.10956046e-316, 9.41107606e-318,\n",
       "        4.18602059e-319, 1.85620463e-320, 8.20148972e-322, 3.45845952e-323,\n",
       "        0.00000000e+000, 0.00000000e+000, 0.00000000e+000, 0.00000000e+000,\n",
       "        0.00000000e+000, 0.00000000e+000, 0.00000000e+000, 0.00000000e+000,\n",
       "        0.00000000e+000, 0.00000000e+000, 0.00000000e+000, 0.00000000e+000,\n",
       "        0.00000000e+000, 0.00000000e+000, 0.00000000e+000, 0.00000000e+000,\n",
       "        0.00000000e+000, 0.00000000e+000, 0.00000000e+000, 0.00000000e+000,\n",
       "        0.00000000e+000, 0.00000000e+000, 0.00000000e+000, 0.00000000e+000,\n",
       "        0.00000000e+000, 0.00000000e+000, 0.00000000e+000, 0.00000000e+000,\n",
       "        0.00000000e+000, 0.00000000e+000, 0.00000000e+000, 0.00000000e+000,\n",
       "        0.00000000e+000, 0.00000000e+000, 0.00000000e+000, 0.00000000e+000,\n",
       "        0.00000000e+000, 0.00000000e+000, 0.00000000e+000, 0.00000000e+000,\n",
       "        0.00000000e+000, 0.00000000e+000, 0.00000000e+000, 0.00000000e+000,\n",
       "        0.00000000e+000, 0.00000000e+000, 0.00000000e+000, 0.00000000e+000,\n",
       "        0.00000000e+000, 0.00000000e+000, 0.00000000e+000, 0.00000000e+000,\n",
       "        0.00000000e+000, 0.00000000e+000, 0.00000000e+000, 0.00000000e+000,\n",
       "        0.00000000e+000, 0.00000000e+000, 0.00000000e+000, 0.00000000e+000,\n",
       "        0.00000000e+000, 0.00000000e+000, 0.00000000e+000, 0.00000000e+000,\n",
       "        0.00000000e+000, 0.00000000e+000, 0.00000000e+000, 0.00000000e+000,\n",
       "        0.00000000e+000, 0.00000000e+000, 0.00000000e+000, 0.00000000e+000,\n",
       "        0.00000000e+000, 0.00000000e+000, 0.00000000e+000, 0.00000000e+000,\n",
       "        0.00000000e+000, 0.00000000e+000, 0.00000000e+000, 0.00000000e+000,\n",
       "        0.00000000e+000, 0.00000000e+000, 0.00000000e+000, 0.00000000e+000,\n",
       "        0.00000000e+000, 0.00000000e+000, 0.00000000e+000, 0.00000000e+000,\n",
       "        0.00000000e+000, 0.00000000e+000, 0.00000000e+000, 0.00000000e+000,\n",
       "        0.00000000e+000, 0.00000000e+000, 0.00000000e+000, 0.00000000e+000,\n",
       "        0.00000000e+000, 0.00000000e+000, 0.00000000e+000, 0.00000000e+000,\n",
       "        0.00000000e+000, 0.00000000e+000, 0.00000000e+000, 0.00000000e+000,\n",
       "        0.00000000e+000, 0.00000000e+000, 0.00000000e+000, 0.00000000e+000,\n",
       "        0.00000000e+000, 0.00000000e+000, 0.00000000e+000, 0.00000000e+000,\n",
       "        0.00000000e+000, 0.00000000e+000, 0.00000000e+000, 0.00000000e+000,\n",
       "        0.00000000e+000, 0.00000000e+000, 0.00000000e+000, 0.00000000e+000,\n",
       "        0.00000000e+000, 0.00000000e+000, 0.00000000e+000, 0.00000000e+000,\n",
       "        0.00000000e+000, 0.00000000e+000, 0.00000000e+000, 0.00000000e+000,\n",
       "        0.00000000e+000, 0.00000000e+000, 0.00000000e+000, 0.00000000e+000,\n",
       "        0.00000000e+000, 0.00000000e+000, 0.00000000e+000, 0.00000000e+000,\n",
       "        0.00000000e+000, 0.00000000e+000, 0.00000000e+000, 0.00000000e+000,\n",
       "        0.00000000e+000, 0.00000000e+000, 0.00000000e+000, 0.00000000e+000,\n",
       "        0.00000000e+000, 0.00000000e+000, 0.00000000e+000, 0.00000000e+000,\n",
       "        0.00000000e+000, 0.00000000e+000, 0.00000000e+000, 0.00000000e+000,\n",
       "        0.00000000e+000, 0.00000000e+000, 0.00000000e+000, 0.00000000e+000,\n",
       "        0.00000000e+000, 0.00000000e+000, 0.00000000e+000, 0.00000000e+000,\n",
       "        0.00000000e+000, 0.00000000e+000, 0.00000000e+000, 0.00000000e+000,\n",
       "        0.00000000e+000, 0.00000000e+000, 0.00000000e+000, 0.00000000e+000,\n",
       "        0.00000000e+000, 0.00000000e+000, 0.00000000e+000, 0.00000000e+000,\n",
       "        0.00000000e+000, 0.00000000e+000, 0.00000000e+000, 0.00000000e+000,\n",
       "        0.00000000e+000, 0.00000000e+000, 0.00000000e+000, 0.00000000e+000,\n",
       "        0.00000000e+000, 0.00000000e+000, 0.00000000e+000, 0.00000000e+000,\n",
       "        0.00000000e+000, 0.00000000e+000, 0.00000000e+000, 0.00000000e+000,\n",
       "        0.00000000e+000, 0.00000000e+000, 0.00000000e+000, 0.00000000e+000,\n",
       "        0.00000000e+000, 0.00000000e+000, 0.00000000e+000, 0.00000000e+000,\n",
       "        0.00000000e+000, 0.00000000e+000, 0.00000000e+000, 0.00000000e+000,\n",
       "        0.00000000e+000, 0.00000000e+000, 0.00000000e+000, 0.00000000e+000,\n",
       "        0.00000000e+000, 0.00000000e+000, 0.00000000e+000, 0.00000000e+000,\n",
       "        0.00000000e+000, 0.00000000e+000, 0.00000000e+000, 0.00000000e+000,\n",
       "        0.00000000e+000, 0.00000000e+000, 0.00000000e+000, 0.00000000e+000,\n",
       "        0.00000000e+000, 0.00000000e+000, 0.00000000e+000, 0.00000000e+000,\n",
       "        0.00000000e+000, 0.00000000e+000, 0.00000000e+000, 0.00000000e+000,\n",
       "        0.00000000e+000, 0.00000000e+000, 0.00000000e+000, 0.00000000e+000,\n",
       "        0.00000000e+000, 0.00000000e+000, 0.00000000e+000, 0.00000000e+000,\n",
       "        0.00000000e+000, 0.00000000e+000, 0.00000000e+000, 0.00000000e+000,\n",
       "        0.00000000e+000, 0.00000000e+000, 0.00000000e+000, 0.00000000e+000,\n",
       "        0.00000000e+000, 0.00000000e+000, 0.00000000e+000, 0.00000000e+000,\n",
       "        0.00000000e+000, 0.00000000e+000, 0.00000000e+000, 0.00000000e+000,\n",
       "        0.00000000e+000, 0.00000000e+000, 0.00000000e+000, 0.00000000e+000,\n",
       "        0.00000000e+000, 0.00000000e+000, 0.00000000e+000, 0.00000000e+000,\n",
       "        0.00000000e+000, 0.00000000e+000, 0.00000000e+000, 0.00000000e+000,\n",
       "        0.00000000e+000, 0.00000000e+000, 0.00000000e+000, 0.00000000e+000,\n",
       "        0.00000000e+000, 0.00000000e+000, 0.00000000e+000, 0.00000000e+000,\n",
       "        0.00000000e+000, 0.00000000e+000, 0.00000000e+000, 0.00000000e+000,\n",
       "        0.00000000e+000, 0.00000000e+000, 0.00000000e+000, 0.00000000e+000,\n",
       "        0.00000000e+000, 0.00000000e+000, 0.00000000e+000, 0.00000000e+000,\n",
       "        0.00000000e+000, 0.00000000e+000, 0.00000000e+000, 0.00000000e+000,\n",
       "        0.00000000e+000, 0.00000000e+000, 0.00000000e+000, 0.00000000e+000,\n",
       "        0.00000000e+000, 0.00000000e+000, 0.00000000e+000, 0.00000000e+000,\n",
       "        0.00000000e+000, 0.00000000e+000, 0.00000000e+000, 0.00000000e+000,\n",
       "        0.00000000e+000, 0.00000000e+000, 0.00000000e+000, 0.00000000e+000,\n",
       "        0.00000000e+000, 0.00000000e+000, 0.00000000e+000, 0.00000000e+000,\n",
       "        0.00000000e+000, 0.00000000e+000, 0.00000000e+000, 0.00000000e+000,\n",
       "        0.00000000e+000, 0.00000000e+000, 0.00000000e+000, 0.00000000e+000,\n",
       "        0.00000000e+000, 0.00000000e+000, 0.00000000e+000, 0.00000000e+000,\n",
       "        0.00000000e+000, 0.00000000e+000, 0.00000000e+000, 0.00000000e+000,\n",
       "        0.00000000e+000, 0.00000000e+000, 0.00000000e+000, 0.00000000e+000,\n",
       "        0.00000000e+000, 0.00000000e+000, 0.00000000e+000, 0.00000000e+000,\n",
       "        0.00000000e+000, 0.00000000e+000, 0.00000000e+000, 0.00000000e+000,\n",
       "        0.00000000e+000, 0.00000000e+000, 0.00000000e+000, 0.00000000e+000,\n",
       "        0.00000000e+000, 0.00000000e+000, 0.00000000e+000, 0.00000000e+000,\n",
       "        0.00000000e+000, 0.00000000e+000, 0.00000000e+000, 0.00000000e+000,\n",
       "        0.00000000e+000, 0.00000000e+000, 0.00000000e+000, 0.00000000e+000,\n",
       "        0.00000000e+000, 0.00000000e+000, 0.00000000e+000]),\n",
       " array([  0,   1,   2,   3,   4,   5,   6,   7,   8,   9,  10,  11,  12,\n",
       "         13,  14,  15,  16,  17,  18,  19,  20,  21,  22,  23,  24,  25,\n",
       "         26,  27,  28,  29,  30,  31,  32,  33,  34,  35,  36,  37,  38,\n",
       "         39,  40,  41,  42,  43,  44,  45,  46,  47,  48,  49,  50,  51,\n",
       "         52,  53,  54,  55,  56,  57,  58,  59,  60,  61,  62,  63,  64,\n",
       "         65,  66,  67,  68,  69,  70,  71,  72,  73,  74,  75,  76,  77,\n",
       "         78,  79,  80,  81,  82,  83,  84,  85,  86,  87,  88,  89,  90,\n",
       "         91,  92,  93,  94,  95,  96,  97,  98,  99, 100, 101, 102, 103,\n",
       "        104, 105, 106, 107, 108, 109, 110, 111, 112, 113, 114, 115, 116,\n",
       "        117, 118, 119, 120, 121, 122, 123, 124, 125, 126, 127, 128, 129,\n",
       "        130, 131, 132, 133, 134, 135, 136, 137, 138, 139, 140, 141, 142,\n",
       "        143, 144, 145, 146, 147, 148, 149, 150, 151, 152, 153, 154, 155,\n",
       "        156, 157, 158, 159, 160, 161, 162, 163, 164, 165, 166, 167, 168,\n",
       "        169, 170, 171, 172, 173, 174, 175, 176, 177, 178, 179, 180, 181,\n",
       "        182, 183, 184, 185, 186, 187, 188, 189, 190, 191, 192, 193, 194,\n",
       "        195, 196, 197, 198, 199, 200, 201, 202, 203, 204, 205, 206, 207,\n",
       "        208, 209, 210, 211, 212, 213, 214, 215, 216, 217, 218, 219, 220,\n",
       "        221, 222, 223, 224, 225, 226, 227, 228, 229, 230, 231, 232, 233,\n",
       "        234, 235, 236, 237, 238, 239, 240, 241, 242, 243, 244, 245, 246,\n",
       "        247, 248, 249, 250, 251, 252, 253, 254, 255, 256, 257, 258, 259,\n",
       "        260, 261, 262, 263, 264, 265, 266, 267, 268, 269, 270, 271, 272,\n",
       "        273, 274, 275, 276, 277, 278, 279, 280, 281, 282, 283, 284, 285,\n",
       "        286, 287, 288, 289, 290, 291, 292, 293, 294, 295, 296, 297, 298,\n",
       "        299, 300, 301, 302, 303, 304, 305, 306, 307, 308, 309, 310, 311,\n",
       "        312, 313, 314, 315, 316, 317, 318, 319, 320, 321, 322, 323, 324,\n",
       "        325, 326, 327, 328, 329, 330, 331, 332, 333, 334, 335, 336, 337,\n",
       "        338, 339, 340, 341, 342, 343, 344, 345, 346, 347, 348, 349, 350,\n",
       "        351, 352, 353, 354, 355, 356, 357, 358, 359, 360, 361, 362, 363,\n",
       "        364, 365, 366, 367, 368, 369, 370, 371, 372, 373, 374, 375, 376,\n",
       "        377, 378, 379, 380, 381, 382, 383, 384, 385, 386, 387, 388, 389,\n",
       "        390, 391, 392, 393, 394, 395, 396, 397, 398, 399, 400, 401, 402,\n",
       "        403, 404, 405, 406, 407, 408, 409, 410, 411, 412, 413, 414, 415,\n",
       "        416, 417, 418, 419, 420, 421, 422, 423, 424, 425, 426, 427, 428,\n",
       "        429, 430, 431, 432, 433, 434, 435, 436, 437, 438, 439, 440, 441,\n",
       "        442, 443, 444, 445, 446, 447, 448, 449, 450, 451, 452, 453, 454,\n",
       "        455, 456, 457, 458, 459, 460, 461, 462, 463, 464, 465, 466, 467,\n",
       "        468, 469, 470, 471, 472, 473, 474, 475, 476, 477, 478, 479, 480,\n",
       "        481, 482, 483, 484, 485, 486, 487, 488, 489, 490, 491, 492, 493,\n",
       "        494, 495, 496, 497, 498, 499, 500, 501, 502, 503, 504, 505, 506,\n",
       "        507, 508, 509, 510, 511, 512, 513, 514, 515, 516, 517, 518, 519,\n",
       "        520, 521, 522, 523, 524, 525, 526, 527, 528, 529, 530, 531, 532,\n",
       "        533, 534, 535, 536, 537, 538, 539, 540, 541, 542, 543, 544, 545,\n",
       "        546, 547, 548, 549, 550, 551, 552, 553, 554, 555, 556, 557, 558,\n",
       "        559, 560, 561, 562, 563, 564, 565, 566, 567, 568, 569, 570, 571,\n",
       "        572, 573, 574, 575, 576, 577, 578, 579, 580, 581, 582, 583, 584,\n",
       "        585, 586, 587, 588, 589, 590, 591, 592, 593, 594, 595, 596, 597,\n",
       "        598, 599, 600, 601, 602, 603, 604, 605, 606, 607, 608, 609, 610,\n",
       "        611, 612, 613, 614, 615, 616, 617, 618, 619, 620, 621, 622, 623,\n",
       "        624, 625, 626, 627, 628, 629, 630, 631, 632, 633, 634, 635, 636,\n",
       "        637, 638, 639, 640, 641, 642, 643, 644, 645, 646, 647, 648, 649,\n",
       "        650, 651, 652, 653, 654, 655, 656, 657, 658, 659, 660, 661, 662,\n",
       "        663, 664, 665, 666, 667, 668, 669, 670, 671, 672, 673, 674, 675,\n",
       "        676, 677, 678, 679, 680, 681, 682, 683, 684, 685, 686, 687, 688,\n",
       "        689, 690]))"
      ]
     },
     "execution_count": 28,
     "metadata": {},
     "output_type": "execute_result"
    }
   ],
   "source": [
    "pc(params, 4)"
   ]
  },
  {
   "cell_type": "code",
   "execution_count": 29,
   "metadata": {},
   "outputs": [
    {
     "data": {
      "text/plain": [
       "array([[1, 0, 3],\n",
       "       [1, 0, 3],\n",
       "       [1, 0, 3]])"
      ]
     },
     "execution_count": 29,
     "metadata": {},
     "output_type": "execute_result"
    }
   ],
   "source": [
    "np.maximum([[1, -2, 3]], [[0], [0], [0]])"
   ]
  }
 ],
 "metadata": {
  "kernelspec": {
   "display_name": "Python 3",
   "language": "python",
   "name": "python3"
  },
  "language_info": {
   "codemirror_mode": {
    "name": "ipython",
    "version": 3
   },
   "file_extension": ".py",
   "mimetype": "text/x-python",
   "name": "python",
   "nbconvert_exporter": "python",
   "pygments_lexer": "ipython3",
   "version": "3.6.9"
  }
 },
 "nbformat": 4,
 "nbformat_minor": 4
}
